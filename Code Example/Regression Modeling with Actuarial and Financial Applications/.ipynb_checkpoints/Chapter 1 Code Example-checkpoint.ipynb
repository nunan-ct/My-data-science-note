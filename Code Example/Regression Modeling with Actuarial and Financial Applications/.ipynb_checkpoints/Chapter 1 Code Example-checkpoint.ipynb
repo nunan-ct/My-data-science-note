{
 "cells": [
  {
   "cell_type": "code",
   "execution_count": 1,
   "metadata": {},
   "outputs": [],
   "source": [
    "import pandas as pd\n",
    "import numpy as np\n",
    "import seaborn as sns\n",
    "import matplotlib.pyplot as plt\n",
    "import statistics\n",
    "import statsmodels"
   ]
  },
  {
   "cell_type": "code",
   "execution_count": 5,
   "metadata": {},
   "outputs": [],
   "source": [
    "data = pd.read_csv('data/MassBodilyInjury.csv',index_col='rownum')"
   ]
  },
  {
   "cell_type": "code",
   "execution_count": 28,
   "metadata": {},
   "outputs": [
    {
     "data": {
      "text/html": [
       "<div>\n",
       "<style scoped>\n",
       "    .dataframe tbody tr th:only-of-type {\n",
       "        vertical-align: middle;\n",
       "    }\n",
       "\n",
       "    .dataframe tbody tr th {\n",
       "        vertical-align: top;\n",
       "    }\n",
       "\n",
       "    .dataframe thead th {\n",
       "        text-align: right;\n",
       "    }\n",
       "</style>\n",
       "<table border=\"1\" class=\"dataframe\">\n",
       "  <thead>\n",
       "    <tr style=\"text-align: right;\">\n",
       "      <th></th>\n",
       "      <th>claims</th>\n",
       "      <th>provider</th>\n",
       "      <th>providerA</th>\n",
       "      <th>logclaims</th>\n",
       "    </tr>\n",
       "    <tr>\n",
       "      <th>rownum</th>\n",
       "      <th></th>\n",
       "      <th></th>\n",
       "      <th></th>\n",
       "      <th></th>\n",
       "    </tr>\n",
       "  </thead>\n",
       "  <tbody>\n",
       "    <tr>\n",
       "      <th>1</th>\n",
       "      <td>0.045</td>\n",
       "      <td>Other</td>\n",
       "      <td>1</td>\n",
       "      <td>-3.101</td>\n",
       "    </tr>\n",
       "    <tr>\n",
       "      <th>2</th>\n",
       "      <td>0.047</td>\n",
       "      <td>Other</td>\n",
       "      <td>1</td>\n",
       "      <td>-3.058</td>\n",
       "    </tr>\n",
       "    <tr>\n",
       "      <th>3</th>\n",
       "      <td>0.070</td>\n",
       "      <td>Other</td>\n",
       "      <td>1</td>\n",
       "      <td>-2.659</td>\n",
       "    </tr>\n",
       "    <tr>\n",
       "      <th>4</th>\n",
       "      <td>0.075</td>\n",
       "      <td>Other</td>\n",
       "      <td>1</td>\n",
       "      <td>-2.590</td>\n",
       "    </tr>\n",
       "    <tr>\n",
       "      <th>5</th>\n",
       "      <td>0.077</td>\n",
       "      <td>Other</td>\n",
       "      <td>1</td>\n",
       "      <td>-2.564</td>\n",
       "    </tr>\n",
       "    <tr>\n",
       "      <th>6</th>\n",
       "      <td>0.092</td>\n",
       "      <td>Other</td>\n",
       "      <td>1</td>\n",
       "      <td>-2.386</td>\n",
       "    </tr>\n",
       "    <tr>\n",
       "      <th>7</th>\n",
       "      <td>0.117</td>\n",
       "      <td>Other</td>\n",
       "      <td>1</td>\n",
       "      <td>-2.146</td>\n",
       "    </tr>\n",
       "    <tr>\n",
       "      <th>8</th>\n",
       "      <td>0.117</td>\n",
       "      <td>Other</td>\n",
       "      <td>1</td>\n",
       "      <td>-2.146</td>\n",
       "    </tr>\n",
       "    <tr>\n",
       "      <th>9</th>\n",
       "      <td>0.140</td>\n",
       "      <td>Other</td>\n",
       "      <td>1</td>\n",
       "      <td>-1.966</td>\n",
       "    </tr>\n",
       "    <tr>\n",
       "      <th>10</th>\n",
       "      <td>0.145</td>\n",
       "      <td>Other</td>\n",
       "      <td>1</td>\n",
       "      <td>-1.931</td>\n",
       "    </tr>\n",
       "  </tbody>\n",
       "</table>\n",
       "</div>"
      ],
      "text/plain": [
       "        claims provider  providerA   logclaims\n",
       "rownum                                        \n",
       "1        0.045    Other           1     -3.101\n",
       "2        0.047    Other           1     -3.058\n",
       "3        0.070    Other           1     -2.659\n",
       "4        0.075    Other           1     -2.590\n",
       "5        0.077    Other           1     -2.564\n",
       "6        0.092    Other           1     -2.386\n",
       "7        0.117    Other           1     -2.146\n",
       "8        0.117    Other           1     -2.146\n",
       "9        0.140    Other           1     -1.966\n",
       "10       0.145    Other           1     -1.931"
      ]
     },
     "execution_count": 28,
     "metadata": {},
     "output_type": "execute_result"
    }
   ],
   "source": [
    "#Example of data \n",
    "data.head(10)"
   ]
  },
  {
   "cell_type": "code",
   "execution_count": 32,
   "metadata": {},
   "outputs": [
    {
     "data": {
      "text/plain": [
       "1    272\n",
       "0     76\n",
       "Name: providerA , dtype: int64"
      ]
     },
     "execution_count": 32,
     "metadata": {},
     "output_type": "execute_result"
    }
   ],
   "source": [
    "data['providerA '].value_counts()"
   ]
  },
  {
   "cell_type": "code",
   "execution_count": 29,
   "metadata": {},
   "outputs": [
    {
     "name": "stdout",
     "output_type": "stream",
     "text": [
      "columns of data :  Index(['claims', 'provider', 'providerA ', 'logclaims'], dtype='object')\n",
      "shape of data :  (348, 4)\n"
     ]
    }
   ],
   "source": [
    "#Check column name and Dimension\n",
    "print('columns of data : ',data.columns)\n",
    "print('shape of data : ' , data.shape)"
   ]
  },
  {
   "cell_type": "code",
   "execution_count": 13,
   "metadata": {},
   "outputs": [
    {
     "data": {
      "text/html": [
       "<div>\n",
       "<style scoped>\n",
       "    .dataframe tbody tr th:only-of-type {\n",
       "        vertical-align: middle;\n",
       "    }\n",
       "\n",
       "    .dataframe tbody tr th {\n",
       "        vertical-align: top;\n",
       "    }\n",
       "\n",
       "    .dataframe thead th {\n",
       "        text-align: right;\n",
       "    }\n",
       "</style>\n",
       "<table border=\"1\" class=\"dataframe\">\n",
       "  <thead>\n",
       "    <tr style=\"text-align: right;\">\n",
       "      <th></th>\n",
       "      <th>claims</th>\n",
       "      <th>providerA</th>\n",
       "      <th>logclaims</th>\n",
       "    </tr>\n",
       "  </thead>\n",
       "  <tbody>\n",
       "    <tr>\n",
       "      <th>count</th>\n",
       "      <td>348.000000</td>\n",
       "      <td>348.000000</td>\n",
       "      <td>348.000000</td>\n",
       "    </tr>\n",
       "    <tr>\n",
       "      <th>mean</th>\n",
       "      <td>2.830006</td>\n",
       "      <td>0.781609</td>\n",
       "      <td>0.622506</td>\n",
       "    </tr>\n",
       "    <tr>\n",
       "      <th>std</th>\n",
       "      <td>3.525240</td>\n",
       "      <td>0.413749</td>\n",
       "      <td>1.028332</td>\n",
       "    </tr>\n",
       "    <tr>\n",
       "      <th>min</th>\n",
       "      <td>0.045000</td>\n",
       "      <td>0.000000</td>\n",
       "      <td>-3.101000</td>\n",
       "    </tr>\n",
       "    <tr>\n",
       "      <th>25%</th>\n",
       "      <td>1.210000</td>\n",
       "      <td>1.000000</td>\n",
       "      <td>0.190750</td>\n",
       "    </tr>\n",
       "    <tr>\n",
       "      <th>50%</th>\n",
       "      <td>2.541500</td>\n",
       "      <td>1.000000</td>\n",
       "      <td>0.932500</td>\n",
       "    </tr>\n",
       "    <tr>\n",
       "      <th>75%</th>\n",
       "      <td>3.473000</td>\n",
       "      <td>1.000000</td>\n",
       "      <td>1.245000</td>\n",
       "    </tr>\n",
       "    <tr>\n",
       "      <th>max</th>\n",
       "      <td>50.000000</td>\n",
       "      <td>1.000000</td>\n",
       "      <td>3.912000</td>\n",
       "    </tr>\n",
       "  </tbody>\n",
       "</table>\n",
       "</div>"
      ],
      "text/plain": [
       "           claims  providerA    logclaims\n",
       "count  348.000000  348.000000  348.000000\n",
       "mean     2.830006    0.781609    0.622506\n",
       "std      3.525240    0.413749    1.028332\n",
       "min      0.045000    0.000000   -3.101000\n",
       "25%      1.210000    1.000000    0.190750\n",
       "50%      2.541500    1.000000    0.932500\n",
       "75%      3.473000    1.000000    1.245000\n",
       "max     50.000000    1.000000    3.912000"
      ]
     },
     "execution_count": 13,
     "metadata": {},
     "output_type": "execute_result"
    }
   ],
   "source": [
    "#Basic Statistic (Exphain Mean , Max , Min , S.D)\n",
    "data.describe()"
   ]
  },
  {
   "cell_type": "code",
   "execution_count": 43,
   "metadata": {},
   "outputs": [
    {
     "data": {
      "text/plain": [
       "Text(0.5,0,'Ranges of logclaim')"
      ]
     },
     "execution_count": 43,
     "metadata": {},
     "output_type": "execute_result"
    },
    {
     "data": {
      "image/png": "[encoded data removed]",
      "text/plain": [
       "<Figure size 1080x288 with 3 Axes>"
      ]
     },
     "metadata": {
      "needs_background": "light"
     },
     "output_type": "display_data"
    }
   ],
   "source": [
    "#plot some Histogram (Without Normal Distribution)\n",
    "fig, (ax1,ax2,ax3) = plt.subplots(1,3,figsize=(15,4))\n",
    "ax1.hist(data['claims'])\n",
    "ax1.set_xlabel('Ranges of Claim')\n",
    "ax2.hist(data['providerA '])\n",
    "ax2.set_xlabel('Ranges of ProviderA')\n",
    "ax3.hist(data['logclaims'])\n",
    "ax3.set_xlabel('Ranges of logclaim')"
   ]
  },
  {
   "cell_type": "code",
   "execution_count": null,
   "metadata": {},
   "outputs": [],
   "source": [
    "#plot some Histogram (With Normal Distribution)\n"
   ]
  }
 ],
 "metadata": {
  "kernelspec": {
   "display_name": "Python 3",
   "language": "python",
   "name": "python3"
  },
  "language_info": {
   "codemirror_mode": {
    "name": "ipython",
    "version": 3
   },
   "file_extension": ".py",
   "mimetype": "text/x-python",
   "name": "python",
   "nbconvert_exporter": "python",
   "pygments_lexer": "ipython3",
   "version": "3.7.0"
  }
 },
 "nbformat": 4,
 "nbformat_minor": 2
}
